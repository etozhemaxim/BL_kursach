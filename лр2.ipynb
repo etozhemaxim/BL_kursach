{
 "cells": [
  {
   "cell_type": "markdown",
   "metadata": {},
   "source": [
    "### Лабораторная работа №2 \"Построение графиков\"\n",
    "\n",
    "Лабораторная работа №2 состоит теоретической части (с примерами) и одного задания.\n",
    "\n",
    "Задание кратко:\n",
    "\n",
    "В папке ```\"files\"``` находится файл ```data.csv```. Необходимо под данным из файла построить график, изображенный на рис. 1:\n",
    "\n",
    "![](files/res.png)\n",
    "Рис. 1. Данные файла ```data.csv```\n",
    "\n",
    "Задание подробно:\n",
    "\n",
    "Файл ```data.csv``` имеет 4 колонки, разделенные ```;```:\n",
    "**x1, x2, label, value**. \n",
    "\n",
    "Необходимо нанести эти данные на график и выделить цветом данные, в зависимости от значения **label**: для каждого значения **label** (кроме 0) нужен отдельный цвет (см. рис. 1).\n",
    "\n",
    "Данные, у которых есть значение в стоблце **value** необходимо разукрасить градиентно в зависимости от значения: необходимо **создать и использовать собственную** цветовую палитру.\n",
    "\n",
    "Необходимо обозначить элемент с минимальным значением **value**.\n",
    "\n",
    "Область выво\n",
    "\n",
    "Весь текст на графике должен быть написан шрифтом *Times New Roman*\n",
    "\n",
    "График должен быть сохранен в файл в формате ```.png```, иметь размер не менее ```5 х 5 дюймов``` и иметь разрешение не менее ```300 dpi```.\n"
   ]
  },
  {
   "cell_type": "markdown",
   "metadata": {},
   "source": [
    "# Теоретическая часть и примеры\n"
   ]
  },
  {
   "cell_type": "markdown",
   "metadata": {},
   "source": [
    "## Подключение пакета"
   ]
  },
  {
   "cell_type": "code",
   "execution_count": null,
   "metadata": {},
   "outputs": [],
   "source": [
    "import matplotlib.pyplot as plt\n",
    "#графики встраиваются в блокнот;\n",
    "%matplotlib inline \n",
    "\n",
    "#альтернатива\n",
    "#%matplotlib notebook  \n",
    "\n",
    "#альтернатива 2\n",
    "#%matplotlib   "
   ]
  },
  {
   "cell_type": "markdown",
   "metadata": {},
   "source": [
    "Можно использовать следующие способы отображения графиков:\n",
    "\n",
    "`%matplotlib inline` - в блокноте, в виде статичного изображения\n",
    "\n",
    "`%matplotlib`  - в отдельном окне"
   ]
  },
  {
   "cell_type": "markdown",
   "metadata": {},
   "source": [
    "## Выбор формата графиков\n",
    "\n",
    "При необходимости, можно переключить формат, в котором выводятся графики. Векторные форматы позволяют сохранить качество при масштабировании и печати, но требуют больше ресурсов. По умолчанию используется растровый формат png"
   ]
  },
  {
   "cell_type": "code",
   "execution_count": null,
   "metadata": {},
   "outputs": [],
   "source": [
    "%config InlineBackend.figure_format = 'svg' #векторный формат #векторный формат"
   ]
  },
  {
   "cell_type": "markdown",
   "metadata": {},
   "source": [
    "## Линейные графики и диаграммы рассеяния\n",
    "\n",
    "Графики в Matplotlib строятся по точкам. Координаты точек хранятся в массивах numpy."
   ]
  },
  {
   "cell_type": "code",
   "execution_count": null,
   "metadata": {},
   "outputs": [],
   "source": [
    "import numpy as np\n",
    "x = np.linspace(-10, 10, 20)\n",
    "y = x**2"
   ]
  },
  {
   "cell_type": "markdown",
   "metadata": {},
   "source": [
    "Для вывода линейных графиков и диаграмм рассеяния используется функция `plot()`"
   ]
  },
  {
   "cell_type": "code",
   "execution_count": null,
   "metadata": {},
   "outputs": [],
   "source": [
    "# plt.xkcd()\n",
    "plt.plot(x, y)\n",
    "plt.show()"
   ]
  },
  {
   "cell_type": "code",
   "execution_count": null,
   "metadata": {},
   "outputs": [],
   "source": [
    "# Сокращенная форма для указания параметров графика\n",
    "plt.plot(y) #изменение цвета и типа линии и маркера - см. подсказку по Shift-Tab;\n",
    "plt.show()"
   ]
  },
  {
   "cell_type": "code",
   "execution_count": null,
   "metadata": {},
   "outputs": [],
   "source": [
    "plt.plot(x, y, color='red', marker='o', linestyle='--', markerfacecolor='blue')\n",
    "plt.show()"
   ]
  },
  {
   "cell_type": "markdown",
   "metadata": {},
   "source": [
    "## Оформление графиков\n",
    "В ячейке блокнота можно несколько раз вызывать функцию `plot()` для нанесения нескольких линий на график. Также можно использовать различные функции для форматирования графика и добавления легенды."
   ]
  },
  {
   "cell_type": "code",
   "execution_count": null,
   "metadata": {},
   "outputs": [],
   "source": [
    "# Полная форма указания параметров графика\n",
    "plt.plot(x, y, color='red', marker='o', linestyle='--', label='Линия 1')\n",
    "plt.scatter(x, -y + 100, color='blue', marker='x', label='Линия 2')\n",
    "plt.grid() # сетка\n",
    "plt.legend()\n",
    "plt.show()"
   ]
  },
  {
   "cell_type": "markdown",
   "metadata": {},
   "source": [
    "см. также [Примеры размещения легенды графика](http://matplotlib.org/users/legend_guide.html)"
   ]
  },
  {
   "cell_type": "markdown",
   "metadata": {},
   "source": [
    "С помощью функций `xlabel()`, `ylabel()` можно подписать координатные оси. Заглавие графика можно задать с помощью функции `title()`. \n",
    "\n",
    "В названия и аннотации можно включать математические символы и формулы, используя $\\LaTeX$. Чтобы не возникало ошибок из-за специальных символов, используемых для набора формул, нужно добавлять символ `r` перед строкой с формулой, например: `r'$\\alpha$'`."
   ]
  },
  {
   "cell_type": "code",
   "execution_count": null,
   "metadata": {},
   "outputs": [],
   "source": [
    "plt.plot(x, y, color='red', marker='o', linestyle='--', label='Линия 1')\n",
    "plt.plot(x, -y + 100, color='blue', marker='x', label='Линия 2')\n",
    "plt.legend(loc='upper center', ncol=2)\n",
    "plt.grid()\n",
    "\n",
    "#Подписи для осей:\n",
    "plt.xlabel('x', fontsize=14)\n",
    "plt.ylabel('y', fontsize=14)\n",
    "\n",
    "#Диапазон оси y:\n",
    "plt.ylim(0, 170)\n",
    "\n",
    "#Заголовок:\n",
    "plt.title(r'График функций $y = x ^2 $ и $\\alpha$', fontsize=16, y=1.05)\n",
    "plt.show()"
   ]
  },
  {
   "cell_type": "markdown",
   "metadata": {},
   "source": [
    "## Аннотирование графиков\n",
    "\n",
    "Текстовые пояснения на графиках можно выводить с помощью функции `text()`.\n",
    "Функция `annotate()` позволяет создавать более сложные аннотации, например, со стрелками, указывающими на определенную область графика.\n",
    "Горизонтальные и вертикальные опорные линии можно строить с помощью функций `axhline()`, `axvline()`."
   ]
  },
  {
   "cell_type": "code",
   "execution_count": null,
   "metadata": {},
   "outputs": [],
   "source": [
    "t = np.linspace(0., 4 * np.pi, 101)\n",
    "f = np.sin(t) + 3\n",
    "plt.plot(t,f)\n",
    "\n",
    "plt.axhline(3,color='lightgray',linestyle='--')\n",
    "plt.text(10.5, 3.05, 'Среднее')\n",
    "plt.annotate('Локальный\\nминимум', xy=(3 * np.pi / 2, 2), \n",
    "             xytext=(3.7, 2.7), \n",
    "             arrowprops=dict(arrowstyle='->', color='red'));"
   ]
  },
  {
   "cell_type": "markdown",
   "metadata": {},
   "source": [
    "[Руководство по аннотированию графиков](http://matplotlib.org/users/annotations_guide.html)"
   ]
  },
  {
   "cell_type": "markdown",
   "metadata": {},
   "source": [
    "## Дополнительные ресурсы\n",
    "\n",
    "- Галерея matplotlib http://matplotlib.org/gallery.html\n",
    "- Python scientific lecture notes https://scipy-lectures.github.io/\n"
   ]
  },
  {
   "cell_type": "markdown",
   "metadata": {},
   "source": [
    "## Несколько графиков одновременно"
   ]
  },
  {
   "cell_type": "markdown",
   "metadata": {},
   "source": [
    "plt.figure() (в котором plt или PLT обычно является библиотекой matplotlib pyplot, импортированной и возвращаемой как глобальная переменная plt или иногда PLT, например:"
   ]
  },
  {
   "cell_type": "code",
   "execution_count": null,
   "metadata": {},
   "outputs": [],
   "source": [
    "from matplotlib import pyplot as PLT\n",
    "\n",
    "fig = PLT.figure()\n",
    "plt.show()"
   ]
  },
  {
   "cell_type": "markdown",
   "metadata": {},
   "source": [
    "строка чуть выше создает экземпляр фигуры matplotlib; этот метод add_subplot объекта затем вызывается для каждого окна построения (неформально думать о оси x и y, содержащей один подзаговор). Вы создаете (будь то один или несколько на странице), например"
   ]
  },
  {
   "cell_type": "code",
   "execution_count": null,
   "metadata": {},
   "outputs": [],
   "source": [
    "fig.add_subplot(111)"
   ]
  },
  {
   "cell_type": "markdown",
   "metadata": {},
   "source": [
    "этот синтаксис эквивалентен"
   ]
  },
  {
   "cell_type": "code",
   "execution_count": null,
   "metadata": {},
   "outputs": [],
   "source": [
    "fig.add_subplot(1,1,1)"
   ]
  },
  {
   "cell_type": "markdown",
   "metadata": {},
   "source": [
    "первая цифра - это количество \"строк\" графиков, вторая - \"столбцов\", третья - порядковый номер ячейки графика в такой \"таблице\".\n",
    "\n",
    "Пример:"
   ]
  },
  {
   "cell_type": "code",
   "execution_count": null,
   "metadata": {},
   "outputs": [],
   "source": [
    "from matplotlib import pyplot as plt\n",
    "\n",
    "fig = plt.figure()\n",
    "\n",
    "ax1 = fig.add_subplot(231)\n",
    "ax1.text(0.5, 0.5, '231')\n",
    "\n",
    "ax2 = fig.add_subplot(232)\n",
    "ax2.text(0.5, 0.5, '232')\n",
    "\n",
    "ax3 = fig.add_subplot(233)\n",
    "ax3.text(0.5, 0.5, '233')\n",
    "\n",
    "ax4 = fig.add_subplot(234)\n",
    "ax4.text(0.5, 0.5, '234')\n",
    "\n",
    "ax5 = fig.add_subplot(235)\n",
    "ax5.text(0.5, 0.5, '235')\n",
    "\n",
    "ax6 = fig.add_subplot(236)\n",
    "ax6.text(0.5, 0.5, '236')\n",
    "\n",
    "plt.show()"
   ]
  },
  {
   "cell_type": "markdown",
   "metadata": {},
   "source": [
    "#### Немного другой подход"
   ]
  },
  {
   "cell_type": "code",
   "execution_count": null,
   "metadata": {},
   "outputs": [],
   "source": [
    "from matplotlib.pylab import figure, subplot2grid\n",
    "\n",
    "f0 = figure(num = 0, figsize = (14, 6))\n",
    "ax01 = subplot2grid((3, 7), (0, 0), colspan=2, rowspan=2)\n",
    "ax02 = subplot2grid((3, 7), (0, 5), colspan=2, rowspan=2)\n",
    "ax03 = subplot2grid((3, 7), (0, 2), colspan=3, rowspan=2)\n",
    "ax04 = subplot2grid((3, 7), (2, 2), colspan=3)"
   ]
  },
  {
   "cell_type": "markdown",
   "metadata": {},
   "source": [
    "### Сохранение в файл"
   ]
  },
  {
   "cell_type": "code",
   "execution_count": null,
   "metadata": {},
   "outputs": [],
   "source": [
    "\n",
    "t = np.linspace(0., 4 * np.pi, 101)\n",
    "f = np.sin(t) + 3\n",
    "plt.plot(t,f)\n",
    "\n",
    "plt.axhline(3,color='lightgray',linestyle='--')\n",
    "plt.text(10.5, 3.05, 'Среднее')\n",
    "plt.annotate('Локальный\\nминимум', xy=(3 * np.pi / 2, 2), \n",
    "             xytext=(3.7, 2.7), \n",
    "             arrowprops=dict(arrowstyle='->', color='red'))\n",
    "\n",
    "plt.savefig('fileneme.png', dpi=150, bbox_inches='tight')"
   ]
  },
  {
   "cell_type": "markdown",
   "metadata": {},
   "source": [
    "### Замена шрифтов (в т.ч. и \"математических\")"
   ]
  },
  {
   "cell_type": "code",
   "execution_count": null,
   "metadata": {},
   "outputs": [],
   "source": [
    "import matplotlib as mpl\n",
    "import matplotlib.pyplot as plt\n",
    "\n",
    "rc = {\"font.family\" : \"serif\", \n",
    "      \"mathtext.fontset\" : \"stix\"}\n",
    "plt.rcParams.update(rc)\n",
    "plt.rcParams[\"font.serif\"] = [\"Times New Roman\"] + plt.rcParams[\"font.serif\"]"
   ]
  },
  {
   "cell_type": "code",
   "execution_count": null,
   "metadata": {},
   "outputs": [],
   "source": [
    "t = np.linspace(0., 4 * np.pi, 101)\n",
    "f = np.sin(t) + 3\n",
    "plt.plot(t,f)\n",
    "\n",
    "plt.axhline(3,color='lightgray',linestyle='--')\n",
    "plt.text(10.5, 3.05, 'Среднее')\n",
    "plt.annotate('Локальный\\nминимум', xy=(3 * np.pi / 2, 2), \n",
    "             xytext=(3.7, 2.7), \n",
    "             arrowprops=dict(arrowstyle='->', color='red'))"
   ]
  },
  {
   "cell_type": "markdown",
   "metadata": {},
   "source": [
    "### Градиентные цвета"
   ]
  },
  {
   "cell_type": "code",
   "execution_count": null,
   "metadata": {},
   "outputs": [],
   "source": [
    "n = 1000\n",
    "xs = np.random.uniform(0,1, 1000)\n",
    "ys = np.random.uniform(0,1, 1000)\n",
    "zs = xs**2 + ys\n",
    "plt.scatter(xs, ys, c=zs)\n",
    "plt.show()"
   ]
  },
  {
   "cell_type": "code",
   "execution_count": null,
   "metadata": {},
   "outputs": [],
   "source": [
    "cb = plt.scatter(xs, ys, c=zs)\n",
    "\n",
    "# добавить цветовую ось\n",
    "plt.colorbar(cb)\n",
    "plt.show()"
   ]
  },
  {
   "cell_type": "code",
   "execution_count": null,
   "metadata": {},
   "outputs": [],
   "source": [
    "# Применить разные цветовые схемы\n",
    "\n",
    "for cm in ['Accent', 'Accent_r', 'Blues', 'Blues_r', 'BrBG', 'BrBG_r', 'BuGn', 'BuGn_r', 'BuPu', 'BuPu_r', 'CMRmap', 'CMRmap_r', 'Dark2', 'Dark2_r', 'GnBu', 'GnBu_r', 'Greens', 'Greens_r', 'Greys', 'Greys_r', 'OrRd', 'OrRd_r', 'Oranges', 'Oranges_r', 'PRGn', 'PRGn_r', 'Paired', 'Paired_r', 'Pastel1', 'Pastel1_r', 'Pastel2', 'Pastel2_r', 'PiYG', 'PiYG_r', 'PuBu', 'PuBuGn', 'PuBuGn_r', 'PuBu_r', 'PuOr', 'PuOr_r', 'PuRd', 'PuRd_r', 'Purples', 'Purples_r', 'RdBu', 'RdBu_r', 'RdGy', 'RdGy_r', 'RdPu', 'RdPu_r', 'RdYlBu', 'RdYlBu_r', 'RdYlGn', 'RdYlGn_r', 'Reds', 'Reds_r', 'Set1', 'Set1_r', 'Set2', 'Set2_r', 'Set3', 'Set3_r', 'Spectral', 'Spectral_r', 'Wistia', 'Wistia_r', 'YlGn', 'YlGnBu', 'YlGnBu_r', 'YlGn_r', 'YlOrBr', 'YlOrBr_r', 'YlOrRd', 'YlOrRd_r', 'afmhot', 'afmhot_r', 'autumn', 'autumn_r', 'binary', 'binary_r', 'bone', 'bone_r', 'brg', 'brg_r', 'bwr', 'bwr_r', 'cividis', 'cividis_r', 'cool', 'cool_r', 'coolwarm', 'coolwarm_r', 'copper', 'copper_r', 'cubehelix', 'cubehelix_r', 'flag', 'flag_r', 'gist_earth', 'gist_earth_r', 'gist_gray', 'gist_gray_r', 'gist_heat', 'gist_heat_r', 'gist_ncar', 'gist_ncar_r', 'gist_rainbow', 'gist_rainbow_r', 'gist_stern', 'gist_stern_r', 'gist_yarg', 'gist_yarg_r', 'gnuplot', 'gnuplot2', 'gnuplot2_r', 'gnuplot_r', 'gray', 'gray_r', 'hot', 'hot_r', 'hsv', 'hsv_r', 'inferno', 'inferno_r', 'jet', 'jet_r', 'magma', 'magma_r', 'nipy_spectral', 'nipy_spectral_r', 'ocean', 'ocean_r', 'pink', 'pink_r', 'plasma', 'plasma_r', 'prism', 'prism_r', 'rainbow', 'rainbow_r', 'seismic', 'seismic_r', 'spring', 'spring_r', 'summer', 'summer_r', 'tab10', 'tab10_r', 'tab20', 'tab20_r', 'tab20b', 'tab20b_r', 'tab20c', 'tab20c_r', 'terrain', 'terrain_r', 'turbo', 'turbo_r', 'twilight', 'twilight_r', 'twilight_shifted', 'twilight_shifted_r', 'viridis', 'viridis_r', 'winter', 'winter_r']:\n",
    "    cb = plt.scatter(xs, ys, c=zs, cmap=cm)\n",
    "    plt.colorbar(cb).set_label(f'cmap = \"{cm}\"')\n",
    "    plt.title(f'cmap = \"{cm}\"')\n",
    "    plt.show()"
   ]
  },
  {
   "cell_type": "markdown",
   "metadata": {},
   "source": [
    "### Сделать свою цветовую палитру"
   ]
  },
  {
   "cell_type": "code",
   "execution_count": null,
   "metadata": {},
   "outputs": [],
   "source": [
    "from matplotlib import cm\n",
    "from matplotlib.colors import ListedColormap\n",
    "\n",
    "winter_r = cm.get_cmap('winter_r', 256)\n",
    "newcolors = winter_r(np.linspace(0, 1, 256))\n",
    "newcolors[-52:, :] = cm.get_cmap('plasma', 52)(np.linspace(0.0, 1, 52))\n",
    "newcmp = ListedColormap(newcolors)\n",
    "\n",
    "cb = plt.scatter(xs, ys, c=zs, cmap=newcmp)\n",
    "plt.colorbar(cb).set_label(f'Мои личные цвета')\n",
    "plt.show()"
   ]
  },
  {
   "cell_type": "markdown",
   "metadata": {},
   "source": [
    "## Как добавить вторую ось?\n",
    "\n",
    "[Вот так](https://www.google.com/search?q=matplotlib+%D0%B4%D0%BE%D0%B1%D0%B0%D0%B2%D0%B8%D1%82%D1%8C+%D0%BE%D1%81%D1%8C&oq=matplotlib+%D0%B4%D0%BE%D0%B1%D0%B0%D0%B2%D0%B8%D1%82%D1%8C+%D0%BE%D1%81%D1%8C&aqs=chrome..69i57.37119j0j7&sourceid=chrome&ie=UTF-8)"
   ]
  },
  {
   "cell_type": "markdown",
   "metadata": {},
   "source": [
    "## >>> 3-D графики <<< \n",
    "![](files/33d.jpg)"
   ]
  },
  {
   "cell_type": "code",
   "execution_count": null,
   "metadata": {},
   "outputs": [],
   "source": [
    "%matplotlib inline"
   ]
  },
  {
   "cell_type": "code",
   "execution_count": null,
   "metadata": {},
   "outputs": [],
   "source": [
    "from mpl_toolkits import mplot3d\n",
    "\n",
    "import numpy as np\n",
    "import matplotlib.pyplot as plt\n",
    "\n",
    "fig = plt.figure()\n",
    "ax = plt.axes(projection=\"3d\")\n",
    "\n",
    "plt.show()"
   ]
  },
  {
   "cell_type": "code",
   "execution_count": null,
   "metadata": {},
   "outputs": [],
   "source": [
    "fig = plt.figure()\n",
    "ax = plt.axes(projection=\"3d\")\n",
    "\n",
    "z_line = np.linspace(0, 15, 1000)\n",
    "x_line = np.cos(z_line)\n",
    "y_line = np.sin(z_line)\n",
    "ax.plot3D(x_line, y_line, z_line, 'gray')\n",
    "\n",
    "z_points = 15 * np.random.random(100)\n",
    "x_points = np.cos(z_points) + 0.1 * np.random.randn(100)\n",
    "y_points = np.sin(z_points) + 0.1 * np.random.randn(100)\n",
    "ax.scatter3D(x_points, y_points, z_points, c=z_points, cmap='hsv');\n",
    "\n",
    "plt.show()"
   ]
  },
  {
   "cell_type": "code",
   "execution_count": null,
   "metadata": {},
   "outputs": [],
   "source": [
    "fig = plt.figure()\n",
    "ax = plt.axes(projection=\"3d\")\n",
    "def z_function(x, y):\n",
    "    return np.sin(np.sqrt(x ** 2 + y ** 2))\n",
    "\n",
    "x = np.linspace(-6, 6, 5)\n",
    "y = np.linspace(-6, 6, 5)\n",
    "\n",
    "X, Y = np.meshgrid(x, y)\n",
    "Z = z_function(X, Y)\n",
    "\n",
    "ax.plot_wireframe(X, Y, Z, color='green')\n",
    "ax.set_xlabel('x')\n",
    "ax.set_ylabel('y')\n",
    "ax.set_zlabel('z')\n",
    "\n",
    "plt.show()"
   ]
  },
  {
   "cell_type": "code",
   "execution_count": null,
   "metadata": {},
   "outputs": [],
   "source": [
    "Y"
   ]
  },
  {
   "cell_type": "code",
   "execution_count": null,
   "metadata": {},
   "outputs": [],
   "source": [
    "Z"
   ]
  },
  {
   "cell_type": "code",
   "execution_count": null,
   "metadata": {},
   "outputs": [],
   "source": [
    "ax = plt.axes(projection='3d')\n",
    "Z[Z<0] = 0\n",
    "ax.plot_surface(X, Y, Z, rstride=1, cstride=1,\n",
    "                cmap='winter')\n",
    "ax.set_title('surface');\n",
    "plt.savefig('123.png')"
   ]
  },
  {
   "cell_type": "code",
   "execution_count": null,
   "metadata": {},
   "outputs": [],
   "source": [
    "import random\n",
    "fig = plt.figure()\n",
    "ax = plt.axes(projection=\"3d\")\n",
    "\n",
    "num_bars = 15\n",
    "x_pos = random.sample(range(20), num_bars)\n",
    "y_pos = random.sample(range(20), num_bars)\n",
    "z_pos = [0] * num_bars\n",
    "x_size = np.ones(num_bars)\n",
    "y_size = np.ones(num_bars)\n",
    "z_size = random.sample(range(20), num_bars)\n",
    "\n",
    "ax.bar3d(x_pos, y_pos, z_pos, x_size, y_size, z_size, color='aqua')\n",
    "plt.show()"
   ]
  }
 ],
 "metadata": {
  "kernelspec": {
   "display_name": "Python 3 (ipykernel)",
   "language": "python",
   "name": "python3"
  },
  "language_info": {
   "codemirror_mode": {
    "name": "ipython",
    "version": 3
   },
   "file_extension": ".py",
   "mimetype": "text/x-python",
   "name": "python",
   "nbconvert_exporter": "python",
   "pygments_lexer": "ipython3",
   "version": "3.9.13"
  }
 },
 "nbformat": 4,
 "nbformat_minor": 4
}
